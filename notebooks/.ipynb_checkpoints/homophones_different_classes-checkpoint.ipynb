{
 "cells": [
  {
   "cell_type": "markdown",
   "metadata": {},
   "source": [
    "# Are homophones more likely to be from different grammatical classes?\n",
    "\n",
    "Lexical ambiguity (E.g. homophones) could cause confusion for language learners/listeners. However, some (Piantadosi et al, 2012; Ferreira, 2008) argue that the distribution of *actual* ambiguity in language is less than imagined, because **context** usually serves to disambiguate.\n",
    "\n",
    "If languages self-organize in such a way as to minimize potential ambiguities, the question becomes: *which* contextual cues are made available to help adjudicate (or, alternatively, *predict*) the intended meaning of a homophone? \n",
    "\n",
    "Previous work (see other report) suggests that homophones are not more **dissimilar** in meaning, as measured by the distance between their word embeddings; on average, homophone pairs were about as similar in meaning as other word pairs, with the exception of ~46 homophone pairs that were *more* similar (which might be due to common misspellings). \n",
    "\n",
    "Another possible disambiguating cue is **grammatical class**. Previous work (Dautriche et al, 2015; Dautriche, 2015) suggests that language learners are better able to learn novel meanings of a known word form (E.g. homophones) when the novel meaning is of a different grammatical class. In other words, **distinct syntactic context** helps learners form distinct lexical representations. \n",
    "\n",
    "Having observed that:\n",
    "a) Homophones don't appear in *less* similar contexts overall than non-homophonous word pairs, as measured by *word2vec* similarity; and\n",
    "b) Grammatical class *can* be a useful cue for disambiguation in the case of lexical ambiguity;\n",
    "\n",
    "One prediction would be that homophones should be more likely than non-homophonous word pairs to be from different word classes."
   ]
  },
  {
   "cell_type": "markdown",
   "metadata": {},
   "source": [
    "## Dataset\n",
    "\n",
    "We consider the set of monosyllabic, monomorphemic words from CELEX. We also pre-process this list in the following ways:\n",
    "\n",
    "1) For all homographic homophone sets (e.g. \"bank\" and \"bank\"), we consider only the highest-frequency member of that set.  \n",
    "2) For all words with an alternate spelling (e.g. \"djinn\" and \"jinn\"), we remove both entries.  \n",
    "3) We also remove letters (other than \"a\"), abbreviations (e.g. \"wt\" or \"lb\"), and non-English entries (\"si\" or \"ti\"). "
   ]
  },
  {
   "cell_type": "code",
   "execution_count": 29,
   "metadata": {},
   "outputs": [],
   "source": [
    "import pandas as pd\n",
    "from tqdm import tqdm\n",
    "import itertools\n",
    "import editdistance as ed\n",
    "\n",
    "import numpy as np\n",
    "%matplotlib inline"
   ]
  },
  {
   "cell_type": "code",
   "execution_count": 6,
   "metadata": {},
   "outputs": [
    {
     "name": "stdout",
     "output_type": "stream",
     "text": [
      "#Words: 3877\n",
      "\n"
     ]
    }
   ],
   "source": [
    "CELEX_PATH = \"../data/processed/celex_processed.csv\"\n",
    "df = pd.read_csv(CELEX_PATH)\n",
    "print(\"#Words: {num}\\n\".format(num=len(df)))"
   ]
  },
  {
   "cell_type": "markdown",
   "metadata": {},
   "source": [
    "We then filter this list to contain only those words which contain a heterographic homophone, as identified in a previous analysis."
   ]
  },
  {
   "cell_type": "code",
   "execution_count": 7,
   "metadata": {},
   "outputs": [
    {
     "name": "stdout",
     "output_type": "stream",
     "text": [
      "Filtering on words that have a homophone pair...\n",
      "#Words after: 569\n",
      "\n"
     ]
    }
   ],
   "source": [
    "df_homophones = pd.read_csv(\"../data/processed/homophone_comparisons.csv\")\n",
    "homophones = list(df_homophones['w1']) + list(df_homophones['w2'])\n",
    "print(\"Filtering on words that have a homophone pair...\")\n",
    "df = df[df['Word'].isin(homophones)]\n",
    "print(\"#Words after: {num}\\n\".format(num=len(df)))"
   ]
  },
  {
   "cell_type": "markdown",
   "metadata": {},
   "source": [
    "Next, to simplify the comparison process, we build a new representation for each entry, concatenating the grammatical class and phonetic representation into a single string."
   ]
  },
  {
   "cell_type": "code",
   "execution_count": 9,
   "metadata": {},
   "outputs": [
    {
     "data": {
      "text/html": [
       "<div>\n",
       "<style scoped>\n",
       "    .dataframe tbody tr th:only-of-type {\n",
       "        vertical-align: middle;\n",
       "    }\n",
       "\n",
       "    .dataframe tbody tr th {\n",
       "        vertical-align: top;\n",
       "    }\n",
       "\n",
       "    .dataframe thead th {\n",
       "        text-align: right;\n",
       "    }\n",
       "</style>\n",
       "<table border=\"1\" class=\"dataframe\">\n",
       "  <thead>\n",
       "    <tr style=\"text-align: right;\">\n",
       "      <th></th>\n",
       "      <th>Unnamed: 0</th>\n",
       "      <th>Word</th>\n",
       "      <th>CobLog</th>\n",
       "      <th>CompCnt</th>\n",
       "      <th>PhonDISC</th>\n",
       "      <th>Class</th>\n",
       "      <th>SylCnt</th>\n",
       "      <th>id</th>\n",
       "      <th>new_repr</th>\n",
       "    </tr>\n",
       "  </thead>\n",
       "  <tbody>\n",
       "    <tr>\n",
       "      <th>4</th>\n",
       "      <td>404</td>\n",
       "      <td>ad</td>\n",
       "      <td>0.95</td>\n",
       "      <td>1</td>\n",
       "      <td>{d</td>\n",
       "      <td>N</td>\n",
       "      <td>1</td>\n",
       "      <td>404</td>\n",
       "      <td>{d**N</td>\n",
       "    </tr>\n",
       "    <tr>\n",
       "      <th>5</th>\n",
       "      <td>423</td>\n",
       "      <td>add</td>\n",
       "      <td>2.37</td>\n",
       "      <td>1</td>\n",
       "      <td>{d</td>\n",
       "      <td>V</td>\n",
       "      <td>1</td>\n",
       "      <td>423</td>\n",
       "      <td>{d**V</td>\n",
       "    </tr>\n",
       "    <tr>\n",
       "      <th>12</th>\n",
       "      <td>855</td>\n",
       "      <td>aid</td>\n",
       "      <td>1.78</td>\n",
       "      <td>1</td>\n",
       "      <td>1d</td>\n",
       "      <td>N</td>\n",
       "      <td>1</td>\n",
       "      <td>855</td>\n",
       "      <td>1d**N</td>\n",
       "    </tr>\n",
       "    <tr>\n",
       "      <th>13</th>\n",
       "      <td>857</td>\n",
       "      <td>aide</td>\n",
       "      <td>1.00</td>\n",
       "      <td>1</td>\n",
       "      <td>1d</td>\n",
       "      <td>N</td>\n",
       "      <td>1</td>\n",
       "      <td>857</td>\n",
       "      <td>1d**N</td>\n",
       "    </tr>\n",
       "    <tr>\n",
       "      <th>14</th>\n",
       "      <td>861</td>\n",
       "      <td>ail</td>\n",
       "      <td>1.04</td>\n",
       "      <td>1</td>\n",
       "      <td>1l</td>\n",
       "      <td>V</td>\n",
       "      <td>1</td>\n",
       "      <td>861</td>\n",
       "      <td>1l**V</td>\n",
       "    </tr>\n",
       "  </tbody>\n",
       "</table>\n",
       "</div>"
      ],
      "text/plain": [
       "    Unnamed: 0  Word  CobLog  CompCnt PhonDISC Class  SylCnt   id new_repr\n",
       "4          404    ad    0.95        1       {d     N       1  404    {d**N\n",
       "5          423   add    2.37        1       {d     V       1  423    {d**V\n",
       "12         855   aid    1.78        1       1d     N       1  855    1d**N\n",
       "13         857  aide    1.00        1       1d     N       1  857    1d**N\n",
       "14         861   ail    1.04        1       1l     V       1  861    1l**V"
      ]
     },
     "execution_count": 9,
     "metadata": {},
     "output_type": "execute_result"
    }
   ],
   "source": [
    "df['new_repr'] = df['PhonDISC'] + \"**\" + df['Class']\n",
    "df.head(5)"
   ]
  },
  {
   "cell_type": "markdown",
   "metadata": {},
   "source": [
    "## Analysis\n",
    "\n",
    "For the analysis, we first consider the **true distribution** of homophone pairs, and count the number of pairs that come from the same class, vs. those who don't. We derive a ratio, e.g. **same class / different class**.\n",
    "\n",
    "We then shuffle our dataset a number of times, and for each permutation, we derive a ratio for that presumably random distribution. Each of these ratios should represent the proportion of homophones with same vs. different classes if this relationship was random.\n",
    "\n",
    "Ultimately , we compare our **true ratio** to the distribution of ratios from each shuffle. \n",
    "\n",
    "Predictions:\n",
    "\n",
    "1) If homophones are more likely to come from distinct grammatical categories, the true ratio of same to different classes should be **much lower** than the distribution of ratios from our shuffles.  \n",
    "2) If homophones are more likely to be in the *same* grammatical class, the true ratio should be much **greater**.  \n",
    "3) If there is no relationship between homophony and grammatical class, the true ratio should fall somewhere in the **middle** of our shuffled distribution."
   ]
  },
  {
   "cell_type": "code",
   "execution_count": 18,
   "metadata": {},
   "outputs": [],
   "source": [
    "def compare_words(words):\n",
    "    \"\"\"Given a list of word representations (and their syntactic category), return dataframe illustrating\n",
    "    whether words with identical representations are more likely to come from the same category.\n",
    "    \n",
    "    Assumes each entry looks like this: \"PHONETIC**CLASS\", e.g. the phonetic representation comes first, followed\n",
    "    by a ** separator, then followed by the grammatical class.\n",
    "    \n",
    "    Parameters\n",
    "    ----------\n",
    "    words: list\n",
    "      list of representations (see above for description)\n",
    "    \n",
    "    Returns\n",
    "    -------\n",
    "    pandas.DataFrame\n",
    "      dataframe with an entry for each comparison, indicating whether \n",
    "      they come from the same class, and whether they have the same phonetic\n",
    "      representations.\n",
    "    \"\"\"\n",
    "    analysis = []\n",
    "    combinations = list(itertools.combinations(words, 2))\n",
    "\n",
    "    for w1, w2 in tqdm(combinations):\n",
    "        # If nan, ignore\n",
    "        if type(w1) == float or type(w2) == float:\n",
    "            continue\n",
    "        phon1, class1 = w1.split(\"**\")\n",
    "        phon2, class2 = w2.split(\"**\")\n",
    "\n",
    "        same_class = class1 == class2\n",
    "\n",
    "        difference = ed.eval(phon1, phon2)\n",
    "        is_homophone = True if difference == 0 else False\n",
    "        analysis.append({\n",
    "            'same_class': same_class,\n",
    "            'is_homophone': is_homophone\n",
    "            })\n",
    "    return pd.DataFrame(analysis)"
   ]
  },
  {
   "cell_type": "code",
   "execution_count": 19,
   "metadata": {},
   "outputs": [],
   "source": [
    "def get_ratios(df_analysis):\n",
    "    \"\"\"Given the dataframe from above, derive ratios of same class to different classes.\"\"\"\n",
    "    true_ratio_homophones = len(df_analysis[(df_analysis['is_homophone']==True) & (df_analysis['same_class']==True)]) / len(df_analysis[(df_analysis['is_homophone']==True) & (df_analysis['same_class']==False)])\n",
    "    true_ratio_non = len(df_analysis[(df_analysis['is_homophone']==False) & (df_analysis['same_class']==True)]) / len(df_analysis[(df_analysis['is_homophone']==False) & (df_analysis['same_class']==False)])\n",
    "    return true_ratio_homophones, true_ratio_non"
   ]
  },
  {
   "cell_type": "code",
   "execution_count": 20,
   "metadata": {},
   "outputs": [
    {
     "name": "stderr",
     "output_type": "stream",
     "text": [
      "100%|██████████| 161596/161596 [00:00<00:00, 327409.77it/s]\n"
     ]
    }
   ],
   "source": [
    "df_analysis = compare_words(df['new_repr'])\n",
    "true_ratios = get_ratios(df_analysis)"
   ]
  },
  {
   "cell_type": "code",
   "execution_count": 21,
   "metadata": {},
   "outputs": [
    {
     "data": {
      "text/html": [
       "<div>\n",
       "<style scoped>\n",
       "    .dataframe tbody tr th:only-of-type {\n",
       "        vertical-align: middle;\n",
       "    }\n",
       "\n",
       "    .dataframe tbody tr th {\n",
       "        vertical-align: top;\n",
       "    }\n",
       "\n",
       "    .dataframe thead th {\n",
       "        text-align: right;\n",
       "    }\n",
       "</style>\n",
       "<table border=\"1\" class=\"dataframe\">\n",
       "  <thead>\n",
       "    <tr style=\"text-align: right;\">\n",
       "      <th></th>\n",
       "      <th>is_homophone</th>\n",
       "      <th>same_class</th>\n",
       "    </tr>\n",
       "  </thead>\n",
       "  <tbody>\n",
       "    <tr>\n",
       "      <th>0</th>\n",
       "      <td>True</td>\n",
       "      <td>False</td>\n",
       "    </tr>\n",
       "    <tr>\n",
       "      <th>1</th>\n",
       "      <td>False</td>\n",
       "      <td>True</td>\n",
       "    </tr>\n",
       "    <tr>\n",
       "      <th>2</th>\n",
       "      <td>False</td>\n",
       "      <td>True</td>\n",
       "    </tr>\n",
       "    <tr>\n",
       "      <th>3</th>\n",
       "      <td>False</td>\n",
       "      <td>False</td>\n",
       "    </tr>\n",
       "    <tr>\n",
       "      <th>4</th>\n",
       "      <td>False</td>\n",
       "      <td>True</td>\n",
       "    </tr>\n",
       "  </tbody>\n",
       "</table>\n",
       "</div>"
      ],
      "text/plain": [
       "   is_homophone  same_class\n",
       "0          True       False\n",
       "1         False        True\n",
       "2         False        True\n",
       "3         False       False\n",
       "4         False        True"
      ]
     },
     "execution_count": 21,
     "metadata": {},
     "output_type": "execute_result"
    }
   ],
   "source": [
    "df_analysis.head(5)"
   ]
  },
  {
   "cell_type": "code",
   "execution_count": 22,
   "metadata": {},
   "outputs": [
    {
     "name": "stdout",
     "output_type": "stream",
     "text": [
      "The ratio of homophones from the same class to homophones from different classes is: 0.585\n"
     ]
    }
   ],
   "source": [
    "print(\"The ratio of homophones from the same class to homophones from different classes is: {rat}\".format(rat=true_ratios[0]))"
   ]
  },
  {
   "cell_type": "code",
   "execution_count": 23,
   "metadata": {},
   "outputs": [
    {
     "name": "stdout",
     "output_type": "stream",
     "text": [
      "The ratio of non_homophones from the same to different class is: 0.7648137573574629\n"
     ]
    }
   ],
   "source": [
    "print(\"The ratio of non_homophones from the same to different class is: {rat}\".format(rat=true_ratios[1]))"
   ]
  },
  {
   "cell_type": "markdown",
   "metadata": {},
   "source": [
    "### Monte Carlo Simulation"
   ]
  },
  {
   "cell_type": "code",
   "execution_count": 24,
   "metadata": {},
   "outputs": [],
   "source": [
    "ITERATIONS = 100"
   ]
  },
  {
   "cell_type": "code",
   "execution_count": 26,
   "metadata": {},
   "outputs": [],
   "source": [
    "homophone_shuffle_ratios, non_homophone_shuffle = [], []\n",
    "to_permute = list(df['Class'])"
   ]
  },
  {
   "cell_type": "code",
   "execution_count": 27,
   "metadata": {},
   "outputs": [
    {
     "name": "stderr",
     "output_type": "stream",
     "text": [
      " 39%|███▊      | 62393/161596 [00:00<00:00, 295883.30it/s]"
     ]
    },
    {
     "name": "stdout",
     "output_type": "stream",
     "text": [
      "0\n"
     ]
    },
    {
     "name": "stderr",
     "output_type": "stream",
     "text": [
      "100%|██████████| 161596/161596 [00:00<00:00, 331430.70it/s]\n",
      " 40%|████      | 64895/161596 [00:00<00:00, 323594.27it/s]"
     ]
    },
    {
     "name": "stdout",
     "output_type": "stream",
     "text": [
      "1\n"
     ]
    },
    {
     "name": "stderr",
     "output_type": "stream",
     "text": [
      "100%|██████████| 161596/161596 [00:00<00:00, 323622.39it/s]\n",
      " 38%|███▊      | 61800/161596 [00:00<00:00, 296436.83it/s]"
     ]
    },
    {
     "name": "stdout",
     "output_type": "stream",
     "text": [
      "2\n"
     ]
    },
    {
     "name": "stderr",
     "output_type": "stream",
     "text": [
      "100%|██████████| 161596/161596 [00:00<00:00, 317343.29it/s]\n",
      " 20%|█▉        | 32139/161596 [00:00<00:00, 321383.41it/s]"
     ]
    },
    {
     "name": "stdout",
     "output_type": "stream",
     "text": [
      "3\n"
     ]
    },
    {
     "name": "stderr",
     "output_type": "stream",
     "text": [
      "100%|██████████| 161596/161596 [00:00<00:00, 330084.88it/s]\n",
      " 40%|███▉      | 64122/161596 [00:00<00:00, 320657.06it/s]"
     ]
    },
    {
     "name": "stdout",
     "output_type": "stream",
     "text": [
      "4\n"
     ]
    },
    {
     "name": "stderr",
     "output_type": "stream",
     "text": [
      "100%|██████████| 161596/161596 [00:00<00:00, 331408.18it/s]\n",
      " 41%|████      | 66166/161596 [00:00<00:00, 326291.04it/s]"
     ]
    },
    {
     "name": "stdout",
     "output_type": "stream",
     "text": [
      "5\n"
     ]
    },
    {
     "name": "stderr",
     "output_type": "stream",
     "text": [
      "100%|██████████| 161596/161596 [00:00<00:00, 332540.52it/s]\n",
      " 18%|█▊        | 28847/161596 [00:00<00:00, 288464.09it/s]"
     ]
    },
    {
     "name": "stdout",
     "output_type": "stream",
     "text": [
      "6\n"
     ]
    },
    {
     "name": "stderr",
     "output_type": "stream",
     "text": [
      "100%|██████████| 161596/161596 [00:00<00:00, 297307.82it/s]\n",
      " 20%|██        | 32543/161596 [00:00<00:00, 325429.53it/s]"
     ]
    },
    {
     "name": "stdout",
     "output_type": "stream",
     "text": [
      "7\n"
     ]
    },
    {
     "name": "stderr",
     "output_type": "stream",
     "text": [
      "100%|██████████| 161596/161596 [00:00<00:00, 296380.87it/s]\n",
      " 20%|██        | 33058/161596 [00:00<00:00, 330577.16it/s]"
     ]
    },
    {
     "name": "stdout",
     "output_type": "stream",
     "text": [
      "8\n"
     ]
    },
    {
     "name": "stderr",
     "output_type": "stream",
     "text": [
      "100%|██████████| 161596/161596 [00:00<00:00, 313568.09it/s]\n",
      " 19%|█▉        | 30733/161596 [00:00<00:00, 307329.56it/s]"
     ]
    },
    {
     "name": "stdout",
     "output_type": "stream",
     "text": [
      "9\n"
     ]
    },
    {
     "name": "stderr",
     "output_type": "stream",
     "text": [
      "100%|██████████| 161596/161596 [00:00<00:00, 326296.96it/s]\n",
      " 19%|█▉        | 31505/161596 [00:00<00:00, 315043.54it/s]"
     ]
    },
    {
     "name": "stdout",
     "output_type": "stream",
     "text": [
      "10\n"
     ]
    },
    {
     "name": "stderr",
     "output_type": "stream",
     "text": [
      "100%|██████████| 161596/161596 [00:00<00:00, 294997.39it/s]\n",
      " 20%|██        | 32846/161596 [00:00<00:00, 328453.27it/s]"
     ]
    },
    {
     "name": "stdout",
     "output_type": "stream",
     "text": [
      "11\n"
     ]
    },
    {
     "name": "stderr",
     "output_type": "stream",
     "text": [
      "100%|██████████| 161596/161596 [00:00<00:00, 297457.09it/s]\n",
      " 40%|███▉      | 64207/161596 [00:00<00:00, 315855.20it/s]"
     ]
    },
    {
     "name": "stdout",
     "output_type": "stream",
     "text": [
      "12\n"
     ]
    },
    {
     "name": "stderr",
     "output_type": "stream",
     "text": [
      "100%|██████████| 161596/161596 [00:00<00:00, 329049.82it/s]\n",
      " 41%|████▏     | 66841/161596 [00:00<00:00, 334861.31it/s]"
     ]
    },
    {
     "name": "stdout",
     "output_type": "stream",
     "text": [
      "13\n"
     ]
    },
    {
     "name": "stderr",
     "output_type": "stream",
     "text": [
      "100%|██████████| 161596/161596 [00:00<00:00, 334715.46it/s]\n",
      " 21%|██        | 33630/161596 [00:00<00:00, 336289.90it/s]"
     ]
    },
    {
     "name": "stdout",
     "output_type": "stream",
     "text": [
      "14\n"
     ]
    },
    {
     "name": "stderr",
     "output_type": "stream",
     "text": [
      "100%|██████████| 161596/161596 [00:00<00:00, 291731.14it/s]\n",
      " 21%|██        | 33172/161596 [00:00<00:00, 331717.15it/s]"
     ]
    },
    {
     "name": "stdout",
     "output_type": "stream",
     "text": [
      "15\n"
     ]
    },
    {
     "name": "stderr",
     "output_type": "stream",
     "text": [
      "100%|██████████| 161596/161596 [00:00<00:00, 323999.55it/s]\n",
      " 41%|████      | 66302/161596 [00:00<00:00, 331383.20it/s]"
     ]
    },
    {
     "name": "stdout",
     "output_type": "stream",
     "text": [
      "16\n"
     ]
    },
    {
     "name": "stderr",
     "output_type": "stream",
     "text": [
      "100%|██████████| 161596/161596 [00:00<00:00, 325659.35it/s]\n",
      " 20%|█▉        | 31861/161596 [00:00<00:00, 318603.47it/s]"
     ]
    },
    {
     "name": "stdout",
     "output_type": "stream",
     "text": [
      "17\n"
     ]
    },
    {
     "name": "stderr",
     "output_type": "stream",
     "text": [
      "100%|██████████| 161596/161596 [00:00<00:00, 325406.68it/s]\n",
      " 20%|█▉        | 31552/161596 [00:00<00:00, 315519.55it/s]"
     ]
    },
    {
     "name": "stdout",
     "output_type": "stream",
     "text": [
      "18\n"
     ]
    },
    {
     "name": "stderr",
     "output_type": "stream",
     "text": [
      "100%|██████████| 161596/161596 [00:00<00:00, 297521.33it/s]\n",
      " 21%|██        | 33278/161596 [00:00<00:00, 332776.35it/s]"
     ]
    },
    {
     "name": "stdout",
     "output_type": "stream",
     "text": [
      "19\n"
     ]
    },
    {
     "name": "stderr",
     "output_type": "stream",
     "text": [
      "100%|██████████| 161596/161596 [00:00<00:00, 308198.08it/s]\n",
      " 16%|█▌        | 25932/161596 [00:00<00:00, 259317.16it/s]"
     ]
    },
    {
     "name": "stdout",
     "output_type": "stream",
     "text": [
      "20\n"
     ]
    },
    {
     "name": "stderr",
     "output_type": "stream",
     "text": [
      "100%|██████████| 161596/161596 [00:00<00:00, 280908.96it/s]\n",
      " 40%|████      | 64876/161596 [00:00<00:00, 325083.29it/s]"
     ]
    },
    {
     "name": "stdout",
     "output_type": "stream",
     "text": [
      "21\n"
     ]
    },
    {
     "name": "stderr",
     "output_type": "stream",
     "text": [
      "100%|██████████| 161596/161596 [00:00<00:00, 299218.71it/s]\n",
      " 21%|██        | 33567/161596 [00:00<00:00, 335666.32it/s]"
     ]
    },
    {
     "name": "stdout",
     "output_type": "stream",
     "text": [
      "22\n"
     ]
    },
    {
     "name": "stderr",
     "output_type": "stream",
     "text": [
      "100%|██████████| 161596/161596 [00:00<00:00, 323407.90it/s]\n",
      " 21%|██        | 33708/161596 [00:00<00:00, 337066.66it/s]"
     ]
    },
    {
     "name": "stdout",
     "output_type": "stream",
     "text": [
      "23\n"
     ]
    },
    {
     "name": "stderr",
     "output_type": "stream",
     "text": [
      "100%|██████████| 161596/161596 [00:00<00:00, 284102.37it/s]\n",
      " 39%|███▉      | 63328/161596 [00:00<00:00, 321723.71it/s]"
     ]
    },
    {
     "name": "stdout",
     "output_type": "stream",
     "text": [
      "24\n"
     ]
    },
    {
     "name": "stderr",
     "output_type": "stream",
     "text": [
      "100%|██████████| 161596/161596 [00:00<00:00, 330477.10it/s]\n",
      " 41%|████      | 66491/161596 [00:00<00:00, 336651.79it/s]"
     ]
    },
    {
     "name": "stdout",
     "output_type": "stream",
     "text": [
      "25\n"
     ]
    },
    {
     "name": "stderr",
     "output_type": "stream",
     "text": [
      "100%|██████████| 161596/161596 [00:00<00:00, 319405.11it/s]\n",
      " 21%|██        | 34164/161596 [00:00<00:00, 341639.51it/s]"
     ]
    },
    {
     "name": "stdout",
     "output_type": "stream",
     "text": [
      "26\n"
     ]
    },
    {
     "name": "stderr",
     "output_type": "stream",
     "text": [
      "100%|██████████| 161596/161596 [00:00<00:00, 291839.67it/s]\n",
      " 23%|██▎       | 36563/161596 [00:00<00:00, 365626.86it/s]"
     ]
    },
    {
     "name": "stdout",
     "output_type": "stream",
     "text": [
      "27\n"
     ]
    },
    {
     "name": "stderr",
     "output_type": "stream",
     "text": [
      "100%|██████████| 161596/161596 [00:00<00:00, 308157.45it/s]\n",
      " 19%|█▊        | 29978/161596 [00:00<00:00, 299776.71it/s]"
     ]
    },
    {
     "name": "stdout",
     "output_type": "stream",
     "text": [
      "28\n"
     ]
    },
    {
     "name": "stderr",
     "output_type": "stream",
     "text": [
      "100%|██████████| 161596/161596 [00:00<00:00, 328743.08it/s]\n",
      " 35%|███▌      | 56749/161596 [00:00<00:00, 290169.48it/s]"
     ]
    },
    {
     "name": "stdout",
     "output_type": "stream",
     "text": [
      "29\n"
     ]
    },
    {
     "name": "stderr",
     "output_type": "stream",
     "text": [
      "100%|██████████| 161596/161596 [00:00<00:00, 281225.75it/s]\n",
      " 17%|█▋        | 27867/161596 [00:00<00:00, 278661.63it/s]"
     ]
    },
    {
     "name": "stdout",
     "output_type": "stream",
     "text": [
      "30\n"
     ]
    },
    {
     "name": "stderr",
     "output_type": "stream",
     "text": [
      "100%|██████████| 161596/161596 [00:00<00:00, 269282.20it/s]\n",
      " 20%|█▉        | 31678/161596 [00:00<00:00, 316777.28it/s]"
     ]
    },
    {
     "name": "stdout",
     "output_type": "stream",
     "text": [
      "31\n"
     ]
    },
    {
     "name": "stderr",
     "output_type": "stream",
     "text": [
      "100%|██████████| 161596/161596 [00:00<00:00, 246450.32it/s]\n",
      " 21%|██        | 33838/161596 [00:00<00:00, 338379.52it/s]"
     ]
    },
    {
     "name": "stdout",
     "output_type": "stream",
     "text": [
      "32\n"
     ]
    },
    {
     "name": "stderr",
     "output_type": "stream",
     "text": [
      "100%|██████████| 161596/161596 [00:00<00:00, 296809.18it/s]\n",
      " 18%|█▊        | 29864/161596 [00:00<00:00, 298639.57it/s]"
     ]
    },
    {
     "name": "stdout",
     "output_type": "stream",
     "text": [
      "33\n"
     ]
    },
    {
     "name": "stderr",
     "output_type": "stream",
     "text": [
      "100%|██████████| 161596/161596 [00:00<00:00, 317554.71it/s]\n",
      " 17%|█▋        | 27073/161596 [00:00<00:00, 270727.68it/s]"
     ]
    },
    {
     "name": "stdout",
     "output_type": "stream",
     "text": [
      "34\n"
     ]
    },
    {
     "name": "stderr",
     "output_type": "stream",
     "text": [
      "100%|██████████| 161596/161596 [00:00<00:00, 292225.96it/s]\n",
      " 40%|███▉      | 64059/161596 [00:00<00:00, 308780.59it/s]"
     ]
    },
    {
     "name": "stdout",
     "output_type": "stream",
     "text": [
      "35\n"
     ]
    },
    {
     "name": "stderr",
     "output_type": "stream",
     "text": [
      "100%|██████████| 161596/161596 [00:00<00:00, 291844.95it/s]\n",
      " 17%|█▋        | 27436/161596 [00:00<00:00, 274356.99it/s]"
     ]
    },
    {
     "name": "stdout",
     "output_type": "stream",
     "text": [
      "36\n"
     ]
    },
    {
     "name": "stderr",
     "output_type": "stream",
     "text": [
      "100%|██████████| 161596/161596 [00:00<00:00, 310991.55it/s]\n",
      " 14%|█▍        | 22974/161596 [00:00<00:00, 229739.67it/s]"
     ]
    },
    {
     "name": "stdout",
     "output_type": "stream",
     "text": [
      "37\n"
     ]
    },
    {
     "name": "stderr",
     "output_type": "stream",
     "text": [
      "100%|██████████| 161596/161596 [00:00<00:00, 231449.19it/s]\n",
      " 20%|██        | 32454/161596 [00:00<00:00, 324533.35it/s]"
     ]
    },
    {
     "name": "stdout",
     "output_type": "stream",
     "text": [
      "38\n"
     ]
    },
    {
     "name": "stderr",
     "output_type": "stream",
     "text": [
      "100%|██████████| 161596/161596 [00:00<00:00, 304994.86it/s]\n",
      " 18%|█▊        | 28423/161596 [00:00<00:00, 284221.46it/s]"
     ]
    },
    {
     "name": "stdout",
     "output_type": "stream",
     "text": [
      "39\n"
     ]
    },
    {
     "name": "stderr",
     "output_type": "stream",
     "text": [
      "100%|██████████| 161596/161596 [00:00<00:00, 312596.82it/s]\n",
      " 39%|███▊      | 62457/161596 [00:00<00:00, 305302.40it/s]"
     ]
    },
    {
     "name": "stdout",
     "output_type": "stream",
     "text": [
      "40\n"
     ]
    },
    {
     "name": "stderr",
     "output_type": "stream",
     "text": [
      "100%|██████████| 161596/161596 [00:00<00:00, 293308.07it/s]\n",
      " 34%|███▍      | 54908/161596 [00:00<00:00, 274523.30it/s]"
     ]
    },
    {
     "name": "stdout",
     "output_type": "stream",
     "text": [
      "41\n"
     ]
    },
    {
     "name": "stderr",
     "output_type": "stream",
     "text": [
      "100%|██████████| 161596/161596 [00:00<00:00, 277060.37it/s]\n",
      " 20%|██        | 32395/161596 [00:00<00:00, 323947.22it/s]"
     ]
    },
    {
     "name": "stdout",
     "output_type": "stream",
     "text": [
      "42\n"
     ]
    },
    {
     "name": "stderr",
     "output_type": "stream",
     "text": [
      "100%|██████████| 161596/161596 [00:00<00:00, 294295.20it/s]\n",
      " 18%|█▊        | 29578/161596 [00:00<00:00, 295774.64it/s]"
     ]
    },
    {
     "name": "stdout",
     "output_type": "stream",
     "text": [
      "43\n"
     ]
    },
    {
     "name": "stderr",
     "output_type": "stream",
     "text": [
      "100%|██████████| 161596/161596 [00:00<00:00, 263831.56it/s]\n",
      " 21%|██        | 33289/161596 [00:00<00:00, 332889.52it/s]"
     ]
    },
    {
     "name": "stdout",
     "output_type": "stream",
     "text": [
      "44\n"
     ]
    },
    {
     "name": "stderr",
     "output_type": "stream",
     "text": [
      "100%|██████████| 161596/161596 [00:00<00:00, 331924.77it/s]\n",
      " 16%|█▌        | 25587/161596 [00:00<00:00, 255867.19it/s]"
     ]
    },
    {
     "name": "stdout",
     "output_type": "stream",
     "text": [
      "45\n"
     ]
    },
    {
     "name": "stderr",
     "output_type": "stream",
     "text": [
      "100%|██████████| 161596/161596 [00:00<00:00, 248364.96it/s]\n",
      " 18%|█▊        | 28474/161596 [00:00<00:00, 284734.16it/s]"
     ]
    },
    {
     "name": "stdout",
     "output_type": "stream",
     "text": [
      "46\n"
     ]
    },
    {
     "name": "stderr",
     "output_type": "stream",
     "text": [
      "100%|██████████| 161596/161596 [00:00<00:00, 308610.79it/s]\n",
      " 16%|█▌        | 26162/161596 [00:00<00:00, 261614.64it/s]"
     ]
    },
    {
     "name": "stdout",
     "output_type": "stream",
     "text": [
      "47\n"
     ]
    },
    {
     "name": "stderr",
     "output_type": "stream",
     "text": [
      "100%|██████████| 161596/161596 [00:00<00:00, 298210.27it/s]\n",
      " 41%|████      | 65695/161596 [00:00<00:00, 318326.37it/s]"
     ]
    },
    {
     "name": "stdout",
     "output_type": "stream",
     "text": [
      "48\n"
     ]
    },
    {
     "name": "stderr",
     "output_type": "stream",
     "text": [
      "100%|██████████| 161596/161596 [00:00<00:00, 320426.18it/s]\n",
      " 18%|█▊        | 29511/161596 [00:00<00:00, 295107.47it/s]"
     ]
    },
    {
     "name": "stdout",
     "output_type": "stream",
     "text": [
      "49\n"
     ]
    },
    {
     "name": "stderr",
     "output_type": "stream",
     "text": [
      "100%|██████████| 161596/161596 [00:00<00:00, 309680.17it/s]\n",
      " 39%|███▊      | 62426/161596 [00:00<00:00, 306891.07it/s]"
     ]
    },
    {
     "name": "stdout",
     "output_type": "stream",
     "text": [
      "50\n"
     ]
    },
    {
     "name": "stderr",
     "output_type": "stream",
     "text": [
      "100%|██████████| 161596/161596 [00:00<00:00, 313536.90it/s]\n",
      " 19%|█▉        | 31408/161596 [00:00<00:00, 314071.31it/s]"
     ]
    },
    {
     "name": "stdout",
     "output_type": "stream",
     "text": [
      "51\n"
     ]
    },
    {
     "name": "stderr",
     "output_type": "stream",
     "text": [
      "100%|██████████| 161596/161596 [00:00<00:00, 306495.42it/s]\n",
      " 20%|█▉        | 31836/161596 [00:00<00:00, 318357.27it/s]"
     ]
    },
    {
     "name": "stdout",
     "output_type": "stream",
     "text": [
      "52\n"
     ]
    },
    {
     "name": "stderr",
     "output_type": "stream",
     "text": [
      "100%|██████████| 161596/161596 [00:00<00:00, 321655.77it/s]\n",
      " 20%|██        | 32666/161596 [00:00<00:00, 326653.30it/s]"
     ]
    },
    {
     "name": "stdout",
     "output_type": "stream",
     "text": [
      "53\n"
     ]
    },
    {
     "name": "stderr",
     "output_type": "stream",
     "text": [
      "100%|██████████| 161596/161596 [00:00<00:00, 317430.09it/s]\n",
      " 38%|███▊      | 61441/161596 [00:00<00:00, 298480.39it/s]"
     ]
    },
    {
     "name": "stdout",
     "output_type": "stream",
     "text": [
      "54\n"
     ]
    },
    {
     "name": "stderr",
     "output_type": "stream",
     "text": [
      "100%|██████████| 161596/161596 [00:00<00:00, 322251.74it/s]\n",
      " 36%|███▌      | 58181/161596 [00:00<00:00, 290671.34it/s]"
     ]
    },
    {
     "name": "stdout",
     "output_type": "stream",
     "text": [
      "55\n"
     ]
    },
    {
     "name": "stderr",
     "output_type": "stream",
     "text": [
      "100%|██████████| 161596/161596 [00:00<00:00, 308953.61it/s]\n",
      " 19%|█▉        | 30531/161596 [00:00<00:00, 305307.38it/s]"
     ]
    },
    {
     "name": "stdout",
     "output_type": "stream",
     "text": [
      "56\n"
     ]
    },
    {
     "name": "stderr",
     "output_type": "stream",
     "text": [
      "100%|██████████| 161596/161596 [00:00<00:00, 323867.64it/s]\n",
      " 19%|█▉        | 30835/161596 [00:00<00:00, 308343.68it/s]"
     ]
    },
    {
     "name": "stdout",
     "output_type": "stream",
     "text": [
      "57\n"
     ]
    },
    {
     "name": "stderr",
     "output_type": "stream",
     "text": [
      "100%|██████████| 161596/161596 [00:00<00:00, 327577.03it/s]\n",
      " 38%|███▊      | 61856/161596 [00:00<00:00, 309132.26it/s]"
     ]
    },
    {
     "name": "stdout",
     "output_type": "stream",
     "text": [
      "58\n"
     ]
    },
    {
     "name": "stderr",
     "output_type": "stream",
     "text": [
      "100%|██████████| 161596/161596 [00:00<00:00, 319329.26it/s]\n",
      " 17%|█▋        | 28272/161596 [00:00<00:00, 282705.44it/s]"
     ]
    },
    {
     "name": "stdout",
     "output_type": "stream",
     "text": [
      "59\n"
     ]
    },
    {
     "name": "stderr",
     "output_type": "stream",
     "text": [
      "100%|██████████| 161596/161596 [00:00<00:00, 306672.79it/s]\n",
      " 16%|█▋        | 26554/161596 [00:00<00:00, 265535.19it/s]"
     ]
    },
    {
     "name": "stdout",
     "output_type": "stream",
     "text": [
      "60\n"
     ]
    },
    {
     "name": "stderr",
     "output_type": "stream",
     "text": [
      "100%|██████████| 161596/161596 [00:00<00:00, 276813.12it/s]\n",
      " 21%|██        | 33680/161596 [00:00<00:00, 336796.31it/s]"
     ]
    },
    {
     "name": "stdout",
     "output_type": "stream",
     "text": [
      "61\n"
     ]
    },
    {
     "name": "stderr",
     "output_type": "stream",
     "text": [
      "100%|██████████| 161596/161596 [00:00<00:00, 308610.79it/s]\n",
      " 17%|█▋        | 27471/161596 [00:00<00:00, 274640.85it/s]"
     ]
    },
    {
     "name": "stdout",
     "output_type": "stream",
     "text": [
      "62\n"
     ]
    },
    {
     "name": "stderr",
     "output_type": "stream",
     "text": [
      "100%|██████████| 161596/161596 [00:00<00:00, 292665.20it/s]\n",
      " 20%|█▉        | 31550/161596 [00:00<00:00, 315493.53it/s]"
     ]
    },
    {
     "name": "stdout",
     "output_type": "stream",
     "text": [
      "63\n"
     ]
    },
    {
     "name": "stderr",
     "output_type": "stream",
     "text": [
      "100%|██████████| 161596/161596 [00:00<00:00, 305609.58it/s]\n",
      " 40%|███▉      | 64615/161596 [00:00<00:00, 327822.02it/s]"
     ]
    },
    {
     "name": "stdout",
     "output_type": "stream",
     "text": [
      "64\n"
     ]
    },
    {
     "name": "stderr",
     "output_type": "stream",
     "text": [
      "100%|██████████| 161596/161596 [00:00<00:00, 295294.28it/s]\n",
      " 22%|██▏       | 35688/161596 [00:00<00:00, 356876.94it/s]"
     ]
    },
    {
     "name": "stdout",
     "output_type": "stream",
     "text": [
      "65\n"
     ]
    },
    {
     "name": "stderr",
     "output_type": "stream",
     "text": [
      "100%|██████████| 161596/161596 [00:00<00:00, 343397.61it/s]\n",
      " 42%|████▏     | 68094/161596 [00:00<00:00, 344285.40it/s]"
     ]
    },
    {
     "name": "stdout",
     "output_type": "stream",
     "text": [
      "66\n"
     ]
    },
    {
     "name": "stderr",
     "output_type": "stream",
     "text": [
      "100%|██████████| 161596/161596 [00:00<00:00, 345406.43it/s]\n",
      " 22%|██▏       | 35320/161596 [00:00<00:00, 353196.13it/s]"
     ]
    },
    {
     "name": "stdout",
     "output_type": "stream",
     "text": [
      "67\n"
     ]
    },
    {
     "name": "stderr",
     "output_type": "stream",
     "text": [
      "100%|██████████| 161596/161596 [00:00<00:00, 342993.75it/s]\n",
      " 44%|████▍     | 71394/161596 [00:00<00:00, 359932.00it/s]"
     ]
    },
    {
     "name": "stdout",
     "output_type": "stream",
     "text": [
      "68\n"
     ]
    },
    {
     "name": "stderr",
     "output_type": "stream",
     "text": [
      "100%|██████████| 161596/161596 [00:00<00:00, 353204.46it/s]\n",
      " 42%|████▏     | 67917/161596 [00:00<00:00, 339475.43it/s]"
     ]
    },
    {
     "name": "stdout",
     "output_type": "stream",
     "text": [
      "69\n"
     ]
    },
    {
     "name": "stderr",
     "output_type": "stream",
     "text": [
      "100%|██████████| 161596/161596 [00:00<00:00, 343930.12it/s]\n",
      " 44%|████▍     | 70853/161596 [00:00<00:00, 351190.54it/s]"
     ]
    },
    {
     "name": "stdout",
     "output_type": "stream",
     "text": [
      "70\n"
     ]
    },
    {
     "name": "stderr",
     "output_type": "stream",
     "text": [
      "100%|██████████| 161596/161596 [00:00<00:00, 350919.49it/s]\n",
      " 42%|████▏     | 67662/161596 [00:00<00:00, 339027.32it/s]"
     ]
    },
    {
     "name": "stdout",
     "output_type": "stream",
     "text": [
      "71\n"
     ]
    },
    {
     "name": "stderr",
     "output_type": "stream",
     "text": [
      "100%|██████████| 161596/161596 [00:00<00:00, 302682.79it/s]\n",
      " 43%|████▎     | 69726/161596 [00:00<00:00, 348623.18it/s]"
     ]
    },
    {
     "name": "stdout",
     "output_type": "stream",
     "text": [
      "72\n"
     ]
    },
    {
     "name": "stderr",
     "output_type": "stream",
     "text": [
      "100%|██████████| 161596/161596 [00:00<00:00, 330334.55it/s]\n",
      " 42%|████▏     | 67359/161596 [00:00<00:00, 340059.26it/s]"
     ]
    },
    {
     "name": "stdout",
     "output_type": "stream",
     "text": [
      "73\n"
     ]
    },
    {
     "name": "stderr",
     "output_type": "stream",
     "text": [
      "100%|██████████| 161596/161596 [00:00<00:00, 325984.35it/s]\n",
      " 20%|██        | 32662/161596 [00:00<00:00, 326616.42it/s]"
     ]
    },
    {
     "name": "stdout",
     "output_type": "stream",
     "text": [
      "74\n"
     ]
    },
    {
     "name": "stderr",
     "output_type": "stream",
     "text": [
      "100%|██████████| 161596/161596 [00:00<00:00, 289651.49it/s]\n",
      " 37%|███▋      | 59642/161596 [00:00<00:00, 295669.47it/s]"
     ]
    },
    {
     "name": "stdout",
     "output_type": "stream",
     "text": [
      "75\n"
     ]
    },
    {
     "name": "stderr",
     "output_type": "stream",
     "text": [
      "100%|██████████| 161596/161596 [00:00<00:00, 313049.31it/s]\n",
      " 20%|█▉        | 31800/161596 [00:00<00:00, 317986.66it/s]"
     ]
    },
    {
     "name": "stdout",
     "output_type": "stream",
     "text": [
      "76\n"
     ]
    },
    {
     "name": "stderr",
     "output_type": "stream",
     "text": [
      "100%|██████████| 161596/161596 [00:00<00:00, 328248.25it/s]\n",
      " 19%|█▊        | 29947/161596 [00:00<00:00, 299461.00it/s]"
     ]
    },
    {
     "name": "stdout",
     "output_type": "stream",
     "text": [
      "77\n"
     ]
    },
    {
     "name": "stderr",
     "output_type": "stream",
     "text": [
      "100%|██████████| 161596/161596 [00:00<00:00, 309171.21it/s]\n",
      " 20%|█▉        | 31619/161596 [00:00<00:00, 316111.17it/s]"
     ]
    },
    {
     "name": "stdout",
     "output_type": "stream",
     "text": [
      "78\n"
     ]
    },
    {
     "name": "stderr",
     "output_type": "stream",
     "text": [
      "100%|██████████| 161596/161596 [00:00<00:00, 330807.27it/s]\n",
      " 39%|███▊      | 62400/161596 [00:00<00:00, 308956.98it/s]"
     ]
    },
    {
     "name": "stdout",
     "output_type": "stream",
     "text": [
      "79\n"
     ]
    },
    {
     "name": "stderr",
     "output_type": "stream",
     "text": [
      "100%|██████████| 161596/161596 [00:00<00:00, 333527.26it/s]\n",
      " 39%|███▉      | 63731/161596 [00:00<00:00, 319717.88it/s]"
     ]
    },
    {
     "name": "stdout",
     "output_type": "stream",
     "text": [
      "80\n"
     ]
    },
    {
     "name": "stderr",
     "output_type": "stream",
     "text": [
      "100%|██████████| 161596/161596 [00:00<00:00, 334689.85it/s]\n",
      " 19%|█▉        | 31015/161596 [00:00<00:00, 310140.68it/s]"
     ]
    },
    {
     "name": "stdout",
     "output_type": "stream",
     "text": [
      "81\n"
     ]
    },
    {
     "name": "stderr",
     "output_type": "stream",
     "text": [
      "100%|██████████| 161596/161596 [00:00<00:00, 312617.59it/s]\n",
      " 17%|█▋        | 27871/161596 [00:00<00:00, 278701.63it/s]"
     ]
    },
    {
     "name": "stdout",
     "output_type": "stream",
     "text": [
      "82\n"
     ]
    },
    {
     "name": "stderr",
     "output_type": "stream",
     "text": [
      "100%|██████████| 161596/161596 [00:00<00:00, 291337.14it/s]\n",
      " 41%|████      | 65563/161596 [00:00<00:00, 321311.77it/s]"
     ]
    },
    {
     "name": "stdout",
     "output_type": "stream",
     "text": [
      "83\n"
     ]
    },
    {
     "name": "stderr",
     "output_type": "stream",
     "text": [
      "100%|██████████| 161596/161596 [00:00<00:00, 262471.69it/s]\n",
      " 18%|█▊        | 28426/161596 [00:00<00:00, 284254.85it/s]"
     ]
    },
    {
     "name": "stdout",
     "output_type": "stream",
     "text": [
      "84\n"
     ]
    },
    {
     "name": "stderr",
     "output_type": "stream",
     "text": [
      "100%|██████████| 161596/161596 [00:00<00:00, 318629.86it/s]\n",
      " 17%|█▋        | 27620/161596 [00:00<00:00, 276192.36it/s]"
     ]
    },
    {
     "name": "stdout",
     "output_type": "stream",
     "text": [
      "85\n"
     ]
    },
    {
     "name": "stderr",
     "output_type": "stream",
     "text": [
      "100%|██████████| 161596/161596 [00:00<00:00, 311937.34it/s]\n",
      " 35%|███▌      | 57301/161596 [00:00<00:00, 283098.49it/s]"
     ]
    },
    {
     "name": "stdout",
     "output_type": "stream",
     "text": [
      "86\n"
     ]
    },
    {
     "name": "stderr",
     "output_type": "stream",
     "text": [
      "100%|██████████| 161596/161596 [00:00<00:00, 293511.68it/s]\n",
      " 19%|█▉        | 30357/161596 [00:00<00:00, 303564.50it/s]"
     ]
    },
    {
     "name": "stdout",
     "output_type": "stream",
     "text": [
      "87\n"
     ]
    },
    {
     "name": "stderr",
     "output_type": "stream",
     "text": [
      "100%|██████████| 161596/161596 [00:00<00:00, 335293.51it/s]\n",
      " 18%|█▊        | 28849/161596 [00:00<00:00, 288484.77it/s]"
     ]
    },
    {
     "name": "stdout",
     "output_type": "stream",
     "text": [
      "88\n"
     ]
    },
    {
     "name": "stderr",
     "output_type": "stream",
     "text": [
      "100%|██████████| 161596/161596 [00:00<00:00, 333241.43it/s]\n",
      " 18%|█▊        | 29185/161596 [00:00<00:00, 291704.23it/s]"
     ]
    },
    {
     "name": "stdout",
     "output_type": "stream",
     "text": [
      "89\n"
     ]
    },
    {
     "name": "stderr",
     "output_type": "stream",
     "text": [
      "100%|██████████| 161596/161596 [00:00<00:00, 332543.78it/s]\n",
      " 18%|█▊        | 29880/161596 [00:00<00:00, 298799.57it/s]"
     ]
    },
    {
     "name": "stdout",
     "output_type": "stream",
     "text": [
      "90\n"
     ]
    },
    {
     "name": "stderr",
     "output_type": "stream",
     "text": [
      "100%|██████████| 161596/161596 [00:00<00:00, 333495.58it/s]\n",
      " 38%|███▊      | 61808/161596 [00:00<00:00, 306389.35it/s]"
     ]
    },
    {
     "name": "stdout",
     "output_type": "stream",
     "text": [
      "91\n"
     ]
    },
    {
     "name": "stderr",
     "output_type": "stream",
     "text": [
      "100%|██████████| 161596/161596 [00:00<00:00, 332831.35it/s]\n",
      " 38%|███▊      | 61257/161596 [00:00<00:00, 301234.95it/s]"
     ]
    },
    {
     "name": "stdout",
     "output_type": "stream",
     "text": [
      "92\n"
     ]
    },
    {
     "name": "stderr",
     "output_type": "stream",
     "text": [
      "100%|██████████| 161596/161596 [00:00<00:00, 331185.52it/s]\n",
      " 36%|███▌      | 57863/161596 [00:00<00:00, 288068.57it/s]"
     ]
    },
    {
     "name": "stdout",
     "output_type": "stream",
     "text": [
      "93\n"
     ]
    },
    {
     "name": "stderr",
     "output_type": "stream",
     "text": [
      "100%|██████████| 161596/161596 [00:00<00:00, 322369.15it/s]\n",
      " 18%|█▊        | 29104/161596 [00:00<00:00, 291034.03it/s]"
     ]
    },
    {
     "name": "stdout",
     "output_type": "stream",
     "text": [
      "94\n"
     ]
    },
    {
     "name": "stderr",
     "output_type": "stream",
     "text": [
      "100%|██████████| 161596/161596 [00:00<00:00, 326012.10it/s]\n",
      "  6%|▌         | 9548/161596 [00:00<00:01, 95478.95it/s]"
     ]
    },
    {
     "name": "stdout",
     "output_type": "stream",
     "text": [
      "95\n"
     ]
    },
    {
     "name": "stderr",
     "output_type": "stream",
     "text": [
      "100%|██████████| 161596/161596 [00:00<00:00, 291025.03it/s]\n",
      " 39%|███▉      | 63375/161596 [00:00<00:00, 299516.02it/s]"
     ]
    },
    {
     "name": "stdout",
     "output_type": "stream",
     "text": [
      "96\n"
     ]
    },
    {
     "name": "stderr",
     "output_type": "stream",
     "text": [
      "100%|██████████| 161596/161596 [00:00<00:00, 330063.50it/s]\n",
      " 18%|█▊        | 29090/161596 [00:00<00:00, 290896.81it/s]"
     ]
    },
    {
     "name": "stdout",
     "output_type": "stream",
     "text": [
      "97\n"
     ]
    },
    {
     "name": "stderr",
     "output_type": "stream",
     "text": [
      "100%|██████████| 161596/161596 [00:00<00:00, 318058.54it/s]\n",
      " 39%|███▊      | 62298/161596 [00:00<00:00, 303758.18it/s]"
     ]
    },
    {
     "name": "stdout",
     "output_type": "stream",
     "text": [
      "98\n"
     ]
    },
    {
     "name": "stderr",
     "output_type": "stream",
     "text": [
      "100%|██████████| 161596/161596 [00:00<00:00, 329647.08it/s]\n",
      " 38%|███▊      | 61651/161596 [00:00<00:00, 308585.24it/s]"
     ]
    },
    {
     "name": "stdout",
     "output_type": "stream",
     "text": [
      "99\n"
     ]
    },
    {
     "name": "stderr",
     "output_type": "stream",
     "text": [
      "100%|██████████| 161596/161596 [00:00<00:00, 323050.59it/s]\n"
     ]
    }
   ],
   "source": [
    "for iteration in range(ITERATIONS):\n",
    "    print(iteration)\n",
    "    permuted = np.random.permutation(to_permute)\n",
    "    new_repr = df['PhonDISC'] + \"**\" + permuted\n",
    "    df_analysis_copy = compare_words(new_repr)\n",
    "    new_ratios = get_ratios(df_analysis_copy)\n",
    "    homophone_shuffle_ratios.append(new_ratios[0])\n",
    "    non_homophone_shuffle.append(new_ratios[1])"
   ]
  },
  {
   "cell_type": "markdown",
   "metadata": {},
   "source": [
    "Now let's plot our true ratio among homophones to the distribution from our shuffles."
   ]
  },
  {
   "cell_type": "code",
   "execution_count": 32,
   "metadata": {},
   "outputs": [
    {
     "data": {
      "text/plain": [
       "<matplotlib.lines.Line2D at 0x119148828>"
      ]
     },
     "execution_count": 32,
     "metadata": {},
     "output_type": "execute_result"
    },
    {
     "data": {
      "image/png": "[encoded data removed]",
      "text/plain": [
       "<Figure size 432x288 with 1 Axes>"
      ]
     },
     "metadata": {},
     "output_type": "display_data"
    }
   ],
   "source": [
    "import matplotlib.pyplot as plt\n",
    "plt.hist(homophone_shuffle_ratios)\n",
    "plt.axvline(true_ratios[0], linestyle=\"dotted\")"
   ]
  },
  {
   "cell_type": "code",
   "execution_count": 33,
   "metadata": {},
   "outputs": [],
   "source": [
    "p_val_homophone_ratio = len([i for i in homophone_shuffle_ratios if i <= true_ratios[0]]) / len(homophone_shuffle_ratios)"
   ]
  },
  {
   "cell_type": "code",
   "execution_count": 35,
   "metadata": {},
   "outputs": [
    {
     "name": "stdout",
     "output_type": "stream",
     "text": [
      "Probability of getting a value at least that small: 0.01\n"
     ]
    }
   ],
   "source": [
    "print(\"Probability of getting a value at least that small: {p}\".format(p=p_val_homophone_ratio))"
   ]
  },
  {
   "cell_type": "code",
   "execution_count": 52,
   "metadata": {},
   "outputs": [
    {
     "data": {
      "text/plain": [
       "<matplotlib.lines.Line2D at 0x116b17668>"
      ]
     },
     "execution_count": 52,
     "metadata": {},
     "output_type": "execute_result"
    },
    {
     "data": {
      "image/png": "[encoded data removed]",
      "text/plain": [
       "<Figure size 432x288 with 1 Axes>"
      ]
     },
     "metadata": {},
     "output_type": "display_data"
    }
   ],
   "source": [
    "import matplotlib.pyplot as plt\n",
    "plt.hist(non_homophone_shuffle)\n",
    "plt.axvline(true_ratios[1], linestyle=\"dotted\")"
   ]
  },
  {
   "cell_type": "code",
   "execution_count": null,
   "metadata": {},
   "outputs": [],
   "source": [
    "p_val_nonhomophone = len([i for i in non_homophone_shuffle if i <= true_ratios[1]]) / len(homophone_shuffle_ratios)\n",
    "print(\"Probability of getting a value at least that small: {p}\".format(p=p_val_homophone_ratio))"
   ]
  },
  {
   "cell_type": "code",
   "execution_count": 51,
   "metadata": {},
   "outputs": [
    {
     "data": {
      "text/plain": [
       "<matplotlib.lines.Line2D at 0x1178a6e80>"
      ]
     },
     "execution_count": 51,
     "metadata": {},
     "output_type": "execute_result"
    },
    {
     "data": {
      "image/png": "[encoded data removed]",
      "text/plain": [
       "<Figure size 432x288 with 2 Axes>"
      ]
     },
     "metadata": {},
     "output_type": "display_data"
    }
   ],
   "source": [
    "import matplotlib.pyplot as plt\n",
    "f, axarr = plt.subplots(2, sharex=True)\n",
    "axarr[0].hist(non_homophone_shuffle)\n",
    "axarr[0].axvline(true_ratios[1], linestyle=\"dotted\")\n",
    "axarr[1].hist(homophone_shuffle_ratios)\n",
    "axarr[1].axvline(true_ratios[0], linestyle=\"dotted\")"
   ]
  },
  {
   "cell_type": "code",
   "execution_count": null,
   "metadata": {},
   "outputs": [],
   "source": []
  }
 ],
 "metadata": {
  "kernelspec": {
   "display_name": "Python 3",
   "language": "python",
   "name": "python3"
  },
  "language_info": {
   "codemirror_mode": {
    "name": "ipython",
    "version": 3
   },
   "file_extension": ".py",
   "mimetype": "text/x-python",
   "name": "python",
   "nbconvert_exporter": "python",
   "pygments_lexer": "ipython3",
   "version": "3.6.5"
  }
 },
 "nbformat": 4,
 "nbformat_minor": 2
}
